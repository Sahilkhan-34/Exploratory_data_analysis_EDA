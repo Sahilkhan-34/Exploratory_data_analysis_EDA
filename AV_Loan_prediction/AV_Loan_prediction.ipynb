{
 "cells": [
  {
   "cell_type": "code",
   "execution_count": null,
   "metadata": {},
   "outputs": [],
   "source": [
    "# import pandas as pd\n",
    "# import numpy as np\n",
    "\n",
    "# def cap_outliers_column(data):\n",
    "#     q1 = data.quantile(0.25)\n",
    "#     q3 = data.quantile(0.75)\n",
    "#     iqr = q3 - q1\n",
    "#     lower_bound = q1 - 1.5 * iqr\n",
    "#     upper_bound = q3 + 1.5 * iqr\n",
    "    \n",
    "#     # Cap outliers\n",
    "#     capped_data = np.clip(data, lower_bound, upper_bound)\n",
    "    \n",
    "#     return capped_data\n",
    "\n",
    "# def cap_outliers_df(df):\n",
    "#     return df.apply(cap_outliers_column, axis=0)\n",
    "\n",
    "# # Example usage:\n",
    "# # Creating a sample DataFrame\n",
    "# data = {\n",
    "#     'col1': np.random.randn(1000) * 10,\n",
    "#     'col2': np.random.randn(1000) * 10,\n",
    "#     'col3': np.random.randn(1000) * 10,\n",
    "#     'col4': np.random.randn(1000) * 10,\n",
    "#     'col5': np.random.randn(1000) * 10\n",
    "# }\n",
    "# df = pd.DataFrame(data)\n",
    "\n",
    "# # Cap outliers for all columns\n",
    "# capped_df = cap_outliers_df(df)\n"
   ]
  }
 ],
 "metadata": {
  "language_info": {
   "name": "python"
  }
 },
 "nbformat": 4,
 "nbformat_minor": 2
}
